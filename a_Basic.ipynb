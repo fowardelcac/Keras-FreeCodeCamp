{
  "nbformat": 4,
  "nbformat_minor": 0,
  "metadata": {
    "colab": {
      "provenance": [],
      "authorship_tag": "ABX9TyPibLCIlsKb1vSmz2bD26Cm",
      "include_colab_link": true
    },
    "kernelspec": {
      "name": "python3",
      "display_name": "Python 3"
    },
    "language_info": {
      "name": "python"
    }
  },
  "cells": [
    {
      "cell_type": "markdown",
      "metadata": {
        "id": "view-in-github",
        "colab_type": "text"
      },
      "source": [
        "<a href=\"https://colab.research.google.com/github/fowardelcac/Keras-FreeCodeCamp/blob/main/a_Basic.ipynb\" target=\"_parent\"><img src=\"https://colab.research.google.com/assets/colab-badge.svg\" alt=\"Open In Colab\"/></a>"
      ]
    },
    {
      "cell_type": "markdown",
      "source": [
        "# Data Preparation and Proccesing"
      ],
      "metadata": {
        "id": "BFRCjUI_mpCR"
      }
    },
    {
      "cell_type": "code",
      "execution_count": 1,
      "metadata": {
        "id": "qB8ysrCbmWmv"
      },
      "outputs": [],
      "source": [
        "import numpy as np\n",
        "from random import randint\n",
        "from sklearn.utils import shuffle\n",
        "from sklearn.preprocessing import MinMaxScaler\n",
        "\n",
        "train_labels = [] # 1->Side efects\n",
        "train_samples = []"
      ]
    },
    {
      "cell_type": "code",
      "source": [
        "for i in range(50):\n",
        "  # The ~5 of younger pacients who did exp side effects\n",
        "  random_younger = randint(13,64)\n",
        "  train_samples.append(random_younger)\n",
        "  train_labels.append(1)\n",
        "\n",
        "  # The ~5% of older individuals who did not exper side\n",
        "  random_older = randint(65,100)\n",
        "  train_samples.append(random_older)\n",
        "  train_labels.append(0)\n",
        "\n",
        "for i in range(1000):\n",
        "  # The ~95% of younger pacients who did not exper side effects\n",
        "  random_younger = randint(13,64)\n",
        "  train_samples.append(random_younger)\n",
        "  train_labels.append(0)\n",
        "\n",
        "  # The ~95% of older individuals who did  exper side\n",
        "  random_older = randint(65,100)\n",
        "  train_samples.append(random_older)\n",
        "  train_labels.append(1)"
      ],
      "metadata": {
        "id": "u6hLu-xMm8xJ"
      },
      "execution_count": 2,
      "outputs": []
    },
    {
      "cell_type": "code",
      "source": [
        "len(test_samples)"
      ],
      "metadata": {
        "colab": {
          "base_uri": "https://localhost:8080/"
        },
        "id": "AMXOTPdooMNE",
        "outputId": "ef1e9085-7c47-4d62-892f-89d8b5af2f92"
      },
      "execution_count": 4,
      "outputs": [
        {
          "output_type": "execute_result",
          "data": {
            "text/plain": [
              "2100"
            ]
          },
          "metadata": {},
          "execution_count": 4
        }
      ]
    },
    {
      "cell_type": "code",
      "source": [
        "test_labels = np.array(test_labels)\n",
        "test_samples = np.array(test_samples)\n",
        "# Shuffle is used to get rid of dataset order\n",
        "test_labels, test_samples = shuffle(test_labels, test_samples)"
      ],
      "metadata": {
        "id": "qj2XmgnCokpb"
      },
      "execution_count": 5,
      "outputs": []
    },
    {
      "cell_type": "code",
      "source": [
        "scaler = MinMaxScaler(feature_range=(0,1))\n",
        "# scaler does not accept 1D Data, so we transform our data to shape(-1, 1)\n",
        "# train_samples: shape(2100,)\n",
        "scaled_train_samples = scaler.fit_transform(test_samples.reshape(-1,1))"
      ],
      "metadata": {
        "id": "-yvpAnappE_Z"
      },
      "execution_count": 9,
      "outputs": []
    },
    {
      "cell_type": "code",
      "source": [
        "# New shape(2100, 1) matriz de 2 dimensiones con una sola columna\n",
        "scaled_train_samples[:5], scaled_train_samples.shape"
      ],
      "metadata": {
        "colab": {
          "base_uri": "https://localhost:8080/"
        },
        "id": "e4ct-YoYpbvE",
        "outputId": "935ed400-fb7d-4ecc-b14b-5c8ce9c3350b"
      },
      "execution_count": 10,
      "outputs": [
        {
          "output_type": "execute_result",
          "data": {
            "text/plain": [
              "(array([[0.05747126],\n",
              "        [0.6091954 ],\n",
              "        [0.13793103],\n",
              "        [0.74712644],\n",
              "        [0.59770115]]),\n",
              " (2100, 1))"
            ]
          },
          "metadata": {},
          "execution_count": 10
        }
      ]
    },
    {
      "cell_type": "markdown",
      "source": [
        "# Buil NN"
      ],
      "metadata": {
        "id": "uCpC4Mj8skX_"
      }
    },
    {
      "cell_type": "code",
      "source": [
        "import tensorflow as tf\n",
        "from tensorflow import keras\n",
        "from tensorflow.keras.models import Sequential\n",
        "from tensorflow.keras.layers import Activation, Dense, Input\n",
        "from tensorflow.keras.optimizers import Adam\n",
        "from tensorflow.keras.metrics import categorical_crossentropy"
      ],
      "metadata": {
        "id": "cfM2fTtMpf2z"
      },
      "execution_count": 13,
      "outputs": []
    },
    {
      "cell_type": "code",
      "source": [
        "model = Sequential([\n",
        "    Input(shape=(1,)),\n",
        "    Dense(units=16, activation='relu'),\n",
        "    Dense(units=32, activation='relu'), #\n",
        "    # Ouput Layer, just 2 units(0 or 1)\n",
        "    # Softmax returns an output probability\n",
        "    Dense(units=2, activation='softmax')\n",
        "])\n"
      ],
      "metadata": {
        "id": "KSBJD_5rrPkx"
      },
      "execution_count": 15,
      "outputs": []
    },
    {
      "cell_type": "code",
      "source": [
        "model.summary()"
      ],
      "metadata": {
        "colab": {
          "base_uri": "https://localhost:8080/",
          "height": 225
        },
        "id": "IPza-0atsK0_",
        "outputId": "d49059c3-9c68-4834-a955-65fdc5c2db74"
      },
      "execution_count": 16,
      "outputs": [
        {
          "output_type": "display_data",
          "data": {
            "text/plain": [
              "\u001b[1mModel: \"sequential_1\"\u001b[0m\n"
            ],
            "text/html": [
              "<pre style=\"white-space:pre;overflow-x:auto;line-height:normal;font-family:Menlo,'DejaVu Sans Mono',consolas,'Courier New',monospace\"><span style=\"font-weight: bold\">Model: \"sequential_1\"</span>\n",
              "</pre>\n"
            ]
          },
          "metadata": {}
        },
        {
          "output_type": "display_data",
          "data": {
            "text/plain": [
              "┏━━━━━━━━━━━━━━━━━━━━━━━━━━━━━━━━━━━━━━┳━━━━━━━━━━━━━━━━━━━━━━━━━━━━━┳━━━━━━━━━━━━━━━━━┓\n",
              "┃\u001b[1m \u001b[0m\u001b[1mLayer (type)                        \u001b[0m\u001b[1m \u001b[0m┃\u001b[1m \u001b[0m\u001b[1mOutput Shape               \u001b[0m\u001b[1m \u001b[0m┃\u001b[1m \u001b[0m\u001b[1m        Param #\u001b[0m\u001b[1m \u001b[0m┃\n",
              "┡━━━━━━━━━━━━━━━━━━━━━━━━━━━━━━━━━━━━━━╇━━━━━━━━━━━━━━━━━━━━━━━━━━━━━╇━━━━━━━━━━━━━━━━━┩\n",
              "│ dense_4 (\u001b[38;5;33mDense\u001b[0m)                      │ (\u001b[38;5;45mNone\u001b[0m, \u001b[38;5;34m16\u001b[0m)                  │              \u001b[38;5;34m32\u001b[0m │\n",
              "├──────────────────────────────────────┼─────────────────────────────┼─────────────────┤\n",
              "│ dense_5 (\u001b[38;5;33mDense\u001b[0m)                      │ (\u001b[38;5;45mNone\u001b[0m, \u001b[38;5;34m32\u001b[0m)                  │             \u001b[38;5;34m544\u001b[0m │\n",
              "├──────────────────────────────────────┼─────────────────────────────┼─────────────────┤\n",
              "│ dense_6 (\u001b[38;5;33mDense\u001b[0m)                      │ (\u001b[38;5;45mNone\u001b[0m, \u001b[38;5;34m2\u001b[0m)                   │              \u001b[38;5;34m66\u001b[0m │\n",
              "└──────────────────────────────────────┴─────────────────────────────┴─────────────────┘\n"
            ],
            "text/html": [
              "<pre style=\"white-space:pre;overflow-x:auto;line-height:normal;font-family:Menlo,'DejaVu Sans Mono',consolas,'Courier New',monospace\">┏━━━━━━━━━━━━━━━━━━━━━━━━━━━━━━━━━━━━━━┳━━━━━━━━━━━━━━━━━━━━━━━━━━━━━┳━━━━━━━━━━━━━━━━━┓\n",
              "┃<span style=\"font-weight: bold\"> Layer (type)                         </span>┃<span style=\"font-weight: bold\"> Output Shape                </span>┃<span style=\"font-weight: bold\">         Param # </span>┃\n",
              "┡━━━━━━━━━━━━━━━━━━━━━━━━━━━━━━━━━━━━━━╇━━━━━━━━━━━━━━━━━━━━━━━━━━━━━╇━━━━━━━━━━━━━━━━━┩\n",
              "│ dense_4 (<span style=\"color: #0087ff; text-decoration-color: #0087ff\">Dense</span>)                      │ (<span style=\"color: #00d7ff; text-decoration-color: #00d7ff\">None</span>, <span style=\"color: #00af00; text-decoration-color: #00af00\">16</span>)                  │              <span style=\"color: #00af00; text-decoration-color: #00af00\">32</span> │\n",
              "├──────────────────────────────────────┼─────────────────────────────┼─────────────────┤\n",
              "│ dense_5 (<span style=\"color: #0087ff; text-decoration-color: #0087ff\">Dense</span>)                      │ (<span style=\"color: #00d7ff; text-decoration-color: #00d7ff\">None</span>, <span style=\"color: #00af00; text-decoration-color: #00af00\">32</span>)                  │             <span style=\"color: #00af00; text-decoration-color: #00af00\">544</span> │\n",
              "├──────────────────────────────────────┼─────────────────────────────┼─────────────────┤\n",
              "│ dense_6 (<span style=\"color: #0087ff; text-decoration-color: #0087ff\">Dense</span>)                      │ (<span style=\"color: #00d7ff; text-decoration-color: #00d7ff\">None</span>, <span style=\"color: #00af00; text-decoration-color: #00af00\">2</span>)                   │              <span style=\"color: #00af00; text-decoration-color: #00af00\">66</span> │\n",
              "└──────────────────────────────────────┴─────────────────────────────┴─────────────────┘\n",
              "</pre>\n"
            ]
          },
          "metadata": {}
        },
        {
          "output_type": "display_data",
          "data": {
            "text/plain": [
              "\u001b[1m Total params: \u001b[0m\u001b[38;5;34m642\u001b[0m (2.51 KB)\n"
            ],
            "text/html": [
              "<pre style=\"white-space:pre;overflow-x:auto;line-height:normal;font-family:Menlo,'DejaVu Sans Mono',consolas,'Courier New',monospace\"><span style=\"font-weight: bold\"> Total params: </span><span style=\"color: #00af00; text-decoration-color: #00af00\">642</span> (2.51 KB)\n",
              "</pre>\n"
            ]
          },
          "metadata": {}
        },
        {
          "output_type": "display_data",
          "data": {
            "text/plain": [
              "\u001b[1m Trainable params: \u001b[0m\u001b[38;5;34m642\u001b[0m (2.51 KB)\n"
            ],
            "text/html": [
              "<pre style=\"white-space:pre;overflow-x:auto;line-height:normal;font-family:Menlo,'DejaVu Sans Mono',consolas,'Courier New',monospace\"><span style=\"font-weight: bold\"> Trainable params: </span><span style=\"color: #00af00; text-decoration-color: #00af00\">642</span> (2.51 KB)\n",
              "</pre>\n"
            ]
          },
          "metadata": {}
        },
        {
          "output_type": "display_data",
          "data": {
            "text/plain": [
              "\u001b[1m Non-trainable params: \u001b[0m\u001b[38;5;34m0\u001b[0m (0.00 B)\n"
            ],
            "text/html": [
              "<pre style=\"white-space:pre;overflow-x:auto;line-height:normal;font-family:Menlo,'DejaVu Sans Mono',consolas,'Courier New',monospace\"><span style=\"font-weight: bold\"> Non-trainable params: </span><span style=\"color: #00af00; text-decoration-color: #00af00\">0</span> (0.00 B)\n",
              "</pre>\n"
            ]
          },
          "metadata": {}
        }
      ]
    },
    {
      "cell_type": "code",
      "source": [
        "model.compile(\n",
        "    optimizer=Adam(learning_rate=0.0001),\n",
        "    loss=\"sparse_categorical_crossentropy\",\n",
        "    metrics=[\"accuracy\"]\n",
        ")"
      ],
      "metadata": {
        "id": "Y8eOtXbTscby"
      },
      "execution_count": 17,
      "outputs": []
    },
    {
      "cell_type": "code",
      "source": [
        "model.fit(\n",
        "    x=scaled_train_samples,\n",
        "    y=test_labels,\n",
        "    batch_size = 10,\n",
        "    epochs = 30,\n",
        "    shuffle=True,\n",
        "    verbose=2\n",
        "    )"
      ],
      "metadata": {
        "colab": {
          "base_uri": "https://localhost:8080/"
        },
        "id": "usOyCopcs90Z",
        "outputId": "2cc9ce61-0311-4be9-a1ff-e0207e36d70f"
      },
      "execution_count": 18,
      "outputs": [
        {
          "output_type": "stream",
          "name": "stdout",
          "text": [
            "Epoch 1/30\n",
            "210/210 - 2s - 8ms/step - accuracy: 0.5010 - loss: 0.6869\n",
            "Epoch 2/30\n",
            "210/210 - 1s - 3ms/step - accuracy: 0.5957 - loss: 0.6560\n",
            "Epoch 3/30\n",
            "210/210 - 1s - 3ms/step - accuracy: 0.6614 - loss: 0.6260\n",
            "Epoch 4/30\n",
            "210/210 - 1s - 3ms/step - accuracy: 0.7338 - loss: 0.5917\n",
            "Epoch 5/30\n",
            "210/210 - 1s - 3ms/step - accuracy: 0.7919 - loss: 0.5520\n",
            "Epoch 6/30\n",
            "210/210 - 0s - 2ms/step - accuracy: 0.8386 - loss: 0.5115\n",
            "Epoch 7/30\n",
            "210/210 - 1s - 3ms/step - accuracy: 0.8576 - loss: 0.4748\n",
            "Epoch 8/30\n",
            "210/210 - 1s - 3ms/step - accuracy: 0.8814 - loss: 0.4408\n",
            "Epoch 9/30\n",
            "210/210 - 0s - 2ms/step - accuracy: 0.8890 - loss: 0.4103\n",
            "Epoch 10/30\n",
            "210/210 - 0s - 2ms/step - accuracy: 0.9014 - loss: 0.3837\n",
            "Epoch 11/30\n",
            "210/210 - 0s - 2ms/step - accuracy: 0.9129 - loss: 0.3612\n",
            "Epoch 12/30\n",
            "210/210 - 0s - 2ms/step - accuracy: 0.9171 - loss: 0.3423\n",
            "Epoch 13/30\n",
            "210/210 - 0s - 2ms/step - accuracy: 0.9219 - loss: 0.3268\n",
            "Epoch 14/30\n",
            "210/210 - 1s - 3ms/step - accuracy: 0.9300 - loss: 0.3145\n",
            "Epoch 15/30\n",
            "210/210 - 1s - 3ms/step - accuracy: 0.9276 - loss: 0.3042\n",
            "Epoch 16/30\n",
            "210/210 - 1s - 3ms/step - accuracy: 0.9338 - loss: 0.2959\n",
            "Epoch 17/30\n",
            "210/210 - 1s - 3ms/step - accuracy: 0.9300 - loss: 0.2892\n",
            "Epoch 18/30\n",
            "210/210 - 1s - 3ms/step - accuracy: 0.9367 - loss: 0.2836\n",
            "Epoch 19/30\n",
            "210/210 - 0s - 2ms/step - accuracy: 0.9371 - loss: 0.2789\n",
            "Epoch 20/30\n",
            "210/210 - 0s - 2ms/step - accuracy: 0.9371 - loss: 0.2749\n",
            "Epoch 21/30\n",
            "210/210 - 1s - 3ms/step - accuracy: 0.9376 - loss: 0.2716\n",
            "Epoch 22/30\n",
            "210/210 - 0s - 2ms/step - accuracy: 0.9376 - loss: 0.2687\n",
            "Epoch 23/30\n",
            "210/210 - 1s - 3ms/step - accuracy: 0.9381 - loss: 0.2663\n",
            "Epoch 24/30\n",
            "210/210 - 1s - 3ms/step - accuracy: 0.9376 - loss: 0.2638\n",
            "Epoch 25/30\n",
            "210/210 - 1s - 3ms/step - accuracy: 0.9390 - loss: 0.2617\n",
            "Epoch 26/30\n",
            "210/210 - 1s - 3ms/step - accuracy: 0.9400 - loss: 0.2601\n",
            "Epoch 27/30\n",
            "210/210 - 0s - 2ms/step - accuracy: 0.9400 - loss: 0.2584\n",
            "Epoch 28/30\n",
            "210/210 - 0s - 2ms/step - accuracy: 0.9414 - loss: 0.2569\n",
            "Epoch 29/30\n",
            "210/210 - 1s - 3ms/step - accuracy: 0.9405 - loss: 0.2557\n",
            "Epoch 30/30\n",
            "210/210 - 0s - 2ms/step - accuracy: 0.9395 - loss: 0.2544\n"
          ]
        },
        {
          "output_type": "execute_result",
          "data": {
            "text/plain": [
              "<keras.src.callbacks.history.History at 0x7b2e6bb4e6d0>"
            ]
          },
          "metadata": {},
          "execution_count": 18
        }
      ]
    },
    {
      "cell_type": "markdown",
      "source": [
        "# Validation Set"
      ],
      "metadata": {
        "id": "cUD2H3yLwAJe"
      }
    },
    {
      "cell_type": "code",
      "source": [
        "model.fit(\n",
        "    x=scaled_train_samples,\n",
        "    y=test_labels,\n",
        "    validation_split=0.1, #10%\n",
        "    batch_size = 10,\n",
        "    epochs = 30,\n",
        "    # Shuffles the 90% of the dataset(training set), cause it fist takes out the validattion\n",
        "    # set and then shuffles it\n",
        "    shuffle=True,\n",
        "    verbose=2\n",
        "    )"
      ],
      "metadata": {
        "colab": {
          "base_uri": "https://localhost:8080/"
        },
        "id": "yJrRgRlAtKIQ",
        "outputId": "5b922348-9eda-44e0-831d-75305fe859a8"
      },
      "execution_count": 20,
      "outputs": [
        {
          "output_type": "stream",
          "name": "stdout",
          "text": [
            "Epoch 1/30\n",
            "189/189 - 0s - 2ms/step - accuracy: 0.9423 - loss: 0.2378 - val_accuracy: 0.9381 - val_loss: 0.2474\n",
            "Epoch 2/30\n",
            "189/189 - 1s - 3ms/step - accuracy: 0.9418 - loss: 0.2373 - val_accuracy: 0.9381 - val_loss: 0.2474\n",
            "Epoch 3/30\n",
            "189/189 - 0s - 2ms/step - accuracy: 0.9418 - loss: 0.2372 - val_accuracy: 0.9381 - val_loss: 0.2477\n",
            "Epoch 4/30\n",
            "189/189 - 1s - 3ms/step - accuracy: 0.9429 - loss: 0.2369 - val_accuracy: 0.9381 - val_loss: 0.2478\n",
            "Epoch 5/30\n",
            "189/189 - 1s - 3ms/step - accuracy: 0.9418 - loss: 0.2365 - val_accuracy: 0.9381 - val_loss: 0.2480\n",
            "Epoch 6/30\n",
            "189/189 - 1s - 3ms/step - accuracy: 0.9418 - loss: 0.2364 - val_accuracy: 0.9381 - val_loss: 0.2474\n",
            "Epoch 7/30\n",
            "189/189 - 0s - 2ms/step - accuracy: 0.9481 - loss: 0.2361 - val_accuracy: 0.9381 - val_loss: 0.2483\n",
            "Epoch 8/30\n",
            "189/189 - 1s - 5ms/step - accuracy: 0.9444 - loss: 0.2359 - val_accuracy: 0.9381 - val_loss: 0.2481\n",
            "Epoch 9/30\n",
            "189/189 - 1s - 7ms/step - accuracy: 0.9418 - loss: 0.2357 - val_accuracy: 0.9381 - val_loss: 0.2477\n",
            "Epoch 10/30\n",
            "189/189 - 1s - 5ms/step - accuracy: 0.9418 - loss: 0.2354 - val_accuracy: 0.9381 - val_loss: 0.2475\n",
            "Epoch 11/30\n",
            "189/189 - 1s - 3ms/step - accuracy: 0.9481 - loss: 0.2353 - val_accuracy: 0.9381 - val_loss: 0.2475\n",
            "Epoch 12/30\n",
            "189/189 - 0s - 2ms/step - accuracy: 0.9434 - loss: 0.2348 - val_accuracy: 0.9429 - val_loss: 0.2469\n",
            "Epoch 13/30\n",
            "189/189 - 1s - 3ms/step - accuracy: 0.9476 - loss: 0.2348 - val_accuracy: 0.9381 - val_loss: 0.2475\n",
            "Epoch 14/30\n",
            "189/189 - 0s - 2ms/step - accuracy: 0.9450 - loss: 0.2346 - val_accuracy: 0.9381 - val_loss: 0.2477\n",
            "Epoch 15/30\n",
            "189/189 - 0s - 2ms/step - accuracy: 0.9429 - loss: 0.2344 - val_accuracy: 0.9381 - val_loss: 0.2475\n",
            "Epoch 16/30\n",
            "189/189 - 1s - 3ms/step - accuracy: 0.9418 - loss: 0.2343 - val_accuracy: 0.9381 - val_loss: 0.2475\n",
            "Epoch 17/30\n",
            "189/189 - 0s - 2ms/step - accuracy: 0.9508 - loss: 0.2339 - val_accuracy: 0.9381 - val_loss: 0.2480\n",
            "Epoch 18/30\n",
            "189/189 - 1s - 3ms/step - accuracy: 0.9418 - loss: 0.2338 - val_accuracy: 0.9381 - val_loss: 0.2476\n",
            "Epoch 19/30\n",
            "189/189 - 0s - 2ms/step - accuracy: 0.9418 - loss: 0.2337 - val_accuracy: 0.9381 - val_loss: 0.2475\n",
            "Epoch 20/30\n",
            "189/189 - 1s - 3ms/step - accuracy: 0.9455 - loss: 0.2336 - val_accuracy: 0.9381 - val_loss: 0.2473\n",
            "Epoch 21/30\n",
            "189/189 - 0s - 2ms/step - accuracy: 0.9423 - loss: 0.2333 - val_accuracy: 0.9381 - val_loss: 0.2473\n",
            "Epoch 22/30\n",
            "189/189 - 1s - 3ms/step - accuracy: 0.9497 - loss: 0.2332 - val_accuracy: 0.9381 - val_loss: 0.2475\n",
            "Epoch 23/30\n",
            "189/189 - 1s - 3ms/step - accuracy: 0.9450 - loss: 0.2329 - val_accuracy: 0.9381 - val_loss: 0.2475\n",
            "Epoch 24/30\n",
            "189/189 - 1s - 3ms/step - accuracy: 0.9434 - loss: 0.2328 - val_accuracy: 0.9381 - val_loss: 0.2476\n",
            "Epoch 25/30\n",
            "189/189 - 0s - 2ms/step - accuracy: 0.9450 - loss: 0.2326 - val_accuracy: 0.9429 - val_loss: 0.2474\n",
            "Epoch 26/30\n",
            "189/189 - 0s - 2ms/step - accuracy: 0.9434 - loss: 0.2324 - val_accuracy: 0.9381 - val_loss: 0.2475\n",
            "Epoch 27/30\n",
            "189/189 - 1s - 3ms/step - accuracy: 0.9524 - loss: 0.2321 - val_accuracy: 0.9381 - val_loss: 0.2479\n",
            "Epoch 28/30\n",
            "189/189 - 1s - 4ms/step - accuracy: 0.9471 - loss: 0.2321 - val_accuracy: 0.9381 - val_loss: 0.2482\n",
            "Epoch 29/30\n",
            "189/189 - 1s - 6ms/step - accuracy: 0.9418 - loss: 0.2320 - val_accuracy: 0.9381 - val_loss: 0.2475\n",
            "Epoch 30/30\n",
            "189/189 - 0s - 2ms/step - accuracy: 0.9481 - loss: 0.2318 - val_accuracy: 0.9381 - val_loss: 0.2476\n"
          ]
        },
        {
          "output_type": "execute_result",
          "data": {
            "text/plain": [
              "<keras.src.callbacks.history.History at 0x7b2e68ee0f10>"
            ]
          },
          "metadata": {},
          "execution_count": 20
        }
      ]
    },
    {
      "cell_type": "markdown",
      "source": [
        "# Test Model"
      ],
      "metadata": {
        "id": "-QSVQ7tCx16w"
      }
    },
    {
      "cell_type": "code",
      "source": [
        "test_samples = []\n",
        "test_labels = []\n",
        "for i in range(10):\n",
        "  # The ~5 of younger pacients who did exp side effects\n",
        "  random_younger = randint(13,64)\n",
        "  test_samples.append(random_younger)\n",
        "  test_labels.append(1)\n",
        "\n",
        "  # The ~5% of older individuals who did not exper side\n",
        "  random_older = randint(65,100)\n",
        "  test_samples.append(random_older)\n",
        "  test_labels.append(0)\n",
        "\n",
        "for i in range(200):\n",
        "  # The ~95% of younger pacients who did not exper side effects\n",
        "  random_younger = randint(13,64)\n",
        "  test_samples.append(random_younger)\n",
        "  test_labels.append(0)\n",
        "\n",
        "  # The ~95% of older individuals who did  exper side\n",
        "  random_older = randint(65,100)\n",
        "  test_samples.append(random_older)\n",
        "  test_labels.append(1)\n",
        "\n",
        "test_samples = np.array(test_samples)\n",
        "test_labels = np.array(test_labels)\n",
        "\n",
        "test_labels, test_samples = shuffle(test_labels, test_samples)\n",
        "\n",
        "scaled_test_samples = scaler.fit_transform(test_samples.reshape(-1, 1))"
      ],
      "metadata": {
        "id": "SxLHapCUwKr3"
      },
      "execution_count": 22,
      "outputs": []
    },
    {
      "cell_type": "markdown",
      "source": [
        "# Predict"
      ],
      "metadata": {
        "id": "kcSDv7ejy5kG"
      }
    },
    {
      "cell_type": "code",
      "source": [
        "predictions = model.predict(x=scaled_test_samples, batch_size=10, verbose=0)\n",
        "for i in predictions:\n",
        "  print(f\"Raw prediction: {i}, Predictions(result): {np.argmax(i, axis = -1)}\")"
      ],
      "metadata": {
        "colab": {
          "base_uri": "https://localhost:8080/"
        },
        "collapsed": true,
        "id": "k6s8I_4syzmy",
        "outputId": "cff88a45-e8fd-432b-f918-03356490ce32"
      },
      "execution_count": 25,
      "outputs": [
        {
          "output_type": "stream",
          "name": "stdout",
          "text": [
            "Raw prediction: [0.86883384 0.1311661 ], Predictions(result): 0\n",
            "Raw prediction: [0.06398959 0.93601036], Predictions(result): 1\n",
            "Raw prediction: [0.02854398 0.9714559 ], Predictions(result): 1\n",
            "Raw prediction: [0.95747995 0.04252007], Predictions(result): 0\n",
            "Raw prediction: [0.00821116 0.9917887 ], Predictions(result): 1\n",
            "Raw prediction: [0.96121377 0.03878615], Predictions(result): 0\n",
            "Raw prediction: [0.16419353 0.83580655], Predictions(result): 1\n",
            "Raw prediction: [0.04289623 0.9571038 ], Predictions(result): 1\n",
            "Raw prediction: [0.01384024 0.98615974], Predictions(result): 1\n",
            "Raw prediction: [0.96826607 0.03173398], Predictions(result): 0\n",
            "Raw prediction: [0.01012166 0.98987824], Predictions(result): 1\n",
            "Raw prediction: [0.16419353 0.83580655], Predictions(result): 1\n",
            "Raw prediction: [0.02854398 0.9714559 ], Predictions(result): 1\n",
            "Raw prediction: [0.15021612 0.8497839 ], Predictions(result): 1\n",
            "Raw prediction: [0.10385292 0.89614713], Predictions(result): 1\n",
            "Raw prediction: [0.29338685 0.70661324], Predictions(result): 1\n",
            "Raw prediction: [0.06398959 0.93601036], Predictions(result): 1\n",
            "Raw prediction: [0.02854398 0.9714559 ], Predictions(result): 1\n",
            "Raw prediction: [0.7426494  0.25735065], Predictions(result): 0\n",
            "Raw prediction: [0.951046 0.048954], Predictions(result): 0\n",
            "Raw prediction: [0.05245011 0.9475499 ], Predictions(result): 1\n",
            "Raw prediction: [0.9660513  0.03394867], Predictions(result): 0\n",
            "Raw prediction: [0.03876565 0.9612344 ], Predictions(result): 1\n",
            "Raw prediction: [0.19264273 0.80735725], Predictions(result): 1\n",
            "Raw prediction: [0.03876565 0.9612344 ], Predictions(result): 1\n",
            "Raw prediction: [0.02323786 0.9767622 ], Predictions(result): 1\n",
            "Raw prediction: [0.9687169  0.03128311], Predictions(result): 0\n",
            "Raw prediction: [0.01123582 0.98876417], Predictions(result): 1\n",
            "Raw prediction: [0.41944408 0.5805559 ], Predictions(result): 1\n",
            "Raw prediction: [0.41944408 0.5805559 ], Predictions(result): 1\n",
            "Raw prediction: [0.94899845 0.05100148], Predictions(result): 0\n",
            "Raw prediction: [0.9600056  0.03999443], Predictions(result): 0\n",
            "Raw prediction: [0.9587612  0.04123875], Predictions(result): 0\n",
            "Raw prediction: [0.29338685 0.70661324], Predictions(result): 1\n",
            "Raw prediction: [0.9635261  0.03647387], Predictions(result): 0\n",
            "Raw prediction: [0.86883384 0.1311661 ], Predictions(result): 0\n",
            "Raw prediction: [0.9600056  0.03999443], Predictions(result): 0\n",
            "Raw prediction: [0.9623869  0.03761293], Predictions(result): 0\n",
            "Raw prediction: [0.93688774 0.06311225], Predictions(result): 0\n",
            "Raw prediction: [0.04744519 0.95255476], Predictions(result): 1\n",
            "Raw prediction: [0.00911696 0.99088305], Predictions(result): 1\n",
            "Raw prediction: [0.9368877  0.06311225], Predictions(result): 0\n",
            "Raw prediction: [0.12520711 0.8747929 ], Predictions(result): 1\n",
            "Raw prediction: [0.0188989 0.9811011], Predictions(result): 1\n",
            "Raw prediction: [0.86883384 0.1311661 ], Predictions(result): 0\n",
            "Raw prediction: [0.41944408 0.5805559 ], Predictions(result): 1\n",
            "Raw prediction: [0.9368877  0.06311225], Predictions(result): 0\n",
            "Raw prediction: [0.96790075 0.03209918], Predictions(result): 0\n",
            "Raw prediction: [0.9667382  0.03326172], Predictions(result): 0\n",
            "Raw prediction: [0.7919553  0.20804477], Predictions(result): 0\n",
            "Raw prediction: [0.9680839  0.03191607], Predictions(result): 0\n",
            "Raw prediction: [0.03501828 0.9649817 ], Predictions(result): 1\n",
            "Raw prediction: [0.9423598  0.05764025], Predictions(result): 0\n",
            "Raw prediction: [0.9688955  0.03110451], Predictions(result): 0\n",
            "Raw prediction: [0.9600056  0.03999443], Predictions(result): 0\n",
            "Raw prediction: [0.9680839  0.03191607], Predictions(result): 0\n",
            "Raw prediction: [0.9600056  0.03999443], Predictions(result): 0\n",
            "Raw prediction: [0.96817505 0.0318249 ], Predictions(result): 0\n",
            "Raw prediction: [0.01247108 0.9875289 ], Predictions(result): 1\n",
            "Raw prediction: [0.9676243  0.03237575], Predictions(result): 0\n",
            "Raw prediction: [0.01703795 0.9829621 ], Predictions(result): 1\n",
            "Raw prediction: [0.96771663 0.03228332], Predictions(result): 0\n",
            "Raw prediction: [0.4879802 0.5120198], Predictions(result): 1\n",
            "Raw prediction: [0.9600056  0.03999443], Predictions(result): 0\n",
            "Raw prediction: [0.15021612 0.8497839 ], Predictions(result): 1\n",
            "Raw prediction: [0.07061043 0.9293896 ], Predictions(result): 1\n",
            "Raw prediction: [0.0188989 0.9811011], Predictions(result): 1\n",
            "Raw prediction: [0.96771663 0.03228332], Predictions(result): 0\n",
            "Raw prediction: [0.96780884 0.03219113], Predictions(result): 0\n",
            "Raw prediction: [0.9679924 0.0320075], Predictions(result): 0\n",
            "Raw prediction: [0.19264273 0.80735725], Predictions(result): 1\n",
            "Raw prediction: [0.86883384 0.1311661 ], Predictions(result): 0\n",
            "Raw prediction: [0.01123582 0.98876417], Predictions(result): 1\n",
            "Raw prediction: [0.12520711 0.8747929 ], Predictions(result): 1\n",
            "Raw prediction: [0.96780884 0.03219113], Predictions(result): 0\n",
            "Raw prediction: [0.16419353 0.83580655], Predictions(result): 1\n",
            "Raw prediction: [0.96790075 0.03209918], Predictions(result): 0\n",
            "Raw prediction: [0.9684472  0.03155288], Predictions(result): 0\n",
            "Raw prediction: [0.29338682 0.7066132 ], Predictions(result): 1\n",
            "Raw prediction: [0.13723326 0.8627668 ], Predictions(result): 1\n",
            "Raw prediction: [0.01247108 0.9875289 ], Predictions(result): 1\n",
            "Raw prediction: [0.07785922 0.9221407 ], Predictions(result): 1\n",
            "Raw prediction: [0.9635261  0.03647387], Predictions(result): 0\n",
            "Raw prediction: [0.03162124 0.9683787 ], Predictions(result): 1\n",
            "Raw prediction: [0.9623869  0.03761293], Predictions(result): 0\n",
            "Raw prediction: [0.9670767 0.0329233], Predictions(result): 0\n",
            "Raw prediction: [0.06398959 0.93601036], Predictions(result): 1\n",
            "Raw prediction: [0.41944408 0.5805559 ], Predictions(result): 1\n",
            "Raw prediction: [0.02095878 0.9790412 ], Predictions(result): 1\n",
            "Raw prediction: [0.03501828 0.9649817 ], Predictions(result): 1\n",
            "Raw prediction: [0.19264273 0.80735725], Predictions(result): 1\n",
            "Raw prediction: [0.00821116 0.9917887 ], Predictions(result): 1\n",
            "Raw prediction: [0.01384024 0.98615974], Predictions(result): 1\n",
            "Raw prediction: [0.96673816 0.03326172], Predictions(result): 0\n",
            "Raw prediction: [0.9686272  0.03137278], Predictions(result): 0\n",
            "Raw prediction: [0.9670767 0.0329233], Predictions(result): 0\n",
            "Raw prediction: [0.9635261  0.03647387], Predictions(result): 0\n",
            "Raw prediction: [0.6862866  0.31371337], Predictions(result): 0\n",
            "Raw prediction: [0.01012166 0.9898783 ], Predictions(result): 1\n",
            "Raw prediction: [0.02095878 0.9790412 ], Predictions(result): 1\n",
            "Raw prediction: [0.6862866  0.31371337], Predictions(result): 0\n",
            "Raw prediction: [0.00821116 0.9917887 ], Predictions(result): 1\n",
            "Raw prediction: [0.9368877  0.06311225], Predictions(result): 0\n",
            "Raw prediction: [0.9635261  0.03647387], Predictions(result): 0\n",
            "Raw prediction: [0.94899845 0.05100148], Predictions(result): 0\n",
            "Raw prediction: [0.9684472  0.03155288], Predictions(result): 0\n",
            "Raw prediction: [0.09443183 0.90556806], Predictions(result): 1\n",
            "Raw prediction: [0.02095878 0.9790412 ], Predictions(result): 1\n",
            "Raw prediction: [0.962387   0.03761294], Predictions(result): 0\n",
            "Raw prediction: [0.1140955  0.88590443], Predictions(result): 1\n",
            "Raw prediction: [0.15021612 0.8497839 ], Predictions(result): 1\n",
            "Raw prediction: [0.8339273  0.16607276], Predictions(result): 0\n",
            "Raw prediction: [0.9623869  0.03761293], Predictions(result): 0\n",
            "Raw prediction: [0.07785922 0.9221407 ], Predictions(result): 1\n",
            "Raw prediction: [0.01703795 0.9829621 ], Predictions(result): 1\n",
            "Raw prediction: [0.9684472  0.03155288], Predictions(result): 0\n",
            "Raw prediction: [0.5569715 0.4430285], Predictions(result): 0\n",
            "Raw prediction: [0.03501828 0.9649817 ], Predictions(result): 1\n",
            "Raw prediction: [0.01384024 0.98615974], Predictions(result): 1\n",
            "Raw prediction: [0.9679009  0.03209918], Predictions(result): 0\n",
            "Raw prediction: [0.9587612  0.04123875], Predictions(result): 0\n",
            "Raw prediction: [0.01247108 0.9875289 ], Predictions(result): 1\n",
            "Raw prediction: [0.9687169  0.03128311], Predictions(result): 0\n",
            "Raw prediction: [0.01012166 0.98987824], Predictions(result): 1\n",
            "Raw prediction: [0.6862866  0.31371337], Predictions(result): 0\n",
            "Raw prediction: [0.9680839  0.03191607], Predictions(result): 0\n",
            "Raw prediction: [0.6238325 0.3761676], Predictions(result): 0\n",
            "Raw prediction: [0.01012166 0.98987824], Predictions(result): 1\n",
            "Raw prediction: [0.9681751 0.0318249], Predictions(result): 0\n",
            "Raw prediction: [0.05245011 0.9475499 ], Predictions(result): 1\n",
            "Raw prediction: [0.9688955  0.03110451], Predictions(result): 0\n",
            "Raw prediction: [0.96780884 0.03219113], Predictions(result): 0\n",
            "Raw prediction: [0.9282229  0.07177718], Predictions(result): 0\n",
            "Raw prediction: [0.95301527 0.04698465], Predictions(result): 0\n",
            "Raw prediction: [0.41944408 0.5805559 ], Predictions(result): 1\n",
            "Raw prediction: [0.9368877  0.06311225], Predictions(result): 0\n",
            "Raw prediction: [0.9685373  0.03146271], Predictions(result): 0\n",
            "Raw prediction: [0.12520711 0.8747929 ], Predictions(result): 1\n",
            "Raw prediction: [0.04289623 0.9571038 ], Predictions(result): 1\n",
            "Raw prediction: [0.03876565 0.9612344 ], Predictions(result): 1\n",
            "Raw prediction: [0.04744519 0.9525547 ], Predictions(result): 1\n",
            "Raw prediction: [0.00911696 0.99088305], Predictions(result): 1\n",
            "Raw prediction: [0.94899845 0.05100148], Predictions(result): 0\n",
            "Raw prediction: [0.01012166 0.98987824], Predictions(result): 1\n",
            "Raw prediction: [0.96121377 0.03878615], Predictions(result): 0\n",
            "Raw prediction: [0.09443183 0.90556806], Predictions(result): 1\n",
            "Raw prediction: [0.9684472  0.03155288], Predictions(result): 0\n",
            "Raw prediction: [0.95747995 0.04252007], Predictions(result): 0\n",
            "Raw prediction: [0.41944408 0.5805559 ], Predictions(result): 1\n",
            "Raw prediction: [0.5569715  0.44302848], Predictions(result): 0\n",
            "Raw prediction: [0.9688063  0.03119368], Predictions(result): 0\n",
            "Raw prediction: [0.6862866  0.31371337], Predictions(result): 0\n",
            "Raw prediction: [0.41944408 0.5805559 ], Predictions(result): 1\n",
            "Raw prediction: [0.29338685 0.70661324], Predictions(result): 1\n",
            "Raw prediction: [0.9635261  0.03647387], Predictions(result): 0\n",
            "Raw prediction: [0.15021612 0.8497839 ], Predictions(result): 1\n",
            "Raw prediction: [0.95616066 0.04383936], Predictions(result): 0\n",
            "Raw prediction: [0.96121377 0.03878615], Predictions(result): 0\n",
            "Raw prediction: [0.9681751 0.0318249], Predictions(result): 0\n",
            "Raw prediction: [0.9530154  0.04698466], Predictions(result): 0\n",
            "Raw prediction: [0.05795089 0.942049  ], Predictions(result): 1\n",
            "Raw prediction: [0.13723324 0.8627667 ], Predictions(result): 1\n",
            "Raw prediction: [0.96835667 0.0316433 ], Predictions(result): 0\n",
            "Raw prediction: [0.10385292 0.89614713], Predictions(result): 1\n",
            "Raw prediction: [0.11409551 0.8859045 ], Predictions(result): 1\n",
            "Raw prediction: [0.13723324 0.8627667 ], Predictions(result): 1\n",
            "Raw prediction: [0.9282229  0.07177718], Predictions(result): 0\n",
            "Raw prediction: [0.9398426  0.06015741], Predictions(result): 0\n",
            "Raw prediction: [0.35388067 0.64611936], Predictions(result): 1\n",
            "Raw prediction: [0.02095878 0.9790412 ], Predictions(result): 1\n",
            "Raw prediction: [0.07061043 0.9293896 ], Predictions(result): 1\n",
            "Raw prediction: [0.9623869  0.03761293], Predictions(result): 0\n",
            "Raw prediction: [0.9687169  0.03128311], Predictions(result): 0\n",
            "Raw prediction: [0.9398426  0.06015741], Predictions(result): 0\n",
            "Raw prediction: [0.03501828 0.9649817 ], Predictions(result): 1\n",
            "Raw prediction: [0.9446581  0.05534177], Predictions(result): 0\n",
            "Raw prediction: [0.00821116 0.9917887 ], Predictions(result): 1\n",
            "Raw prediction: [0.02095878 0.9790412 ], Predictions(result): 1\n",
            "Raw prediction: [0.29338682 0.7066132 ], Predictions(result): 1\n",
            "Raw prediction: [0.9685373  0.03146271], Predictions(result): 0\n",
            "Raw prediction: [0.9689844  0.03101557], Predictions(result): 0\n",
            "Raw prediction: [0.02575822 0.9742416 ], Predictions(result): 1\n",
            "Raw prediction: [0.02575822 0.9742416 ], Predictions(result): 1\n",
            "Raw prediction: [0.9688063  0.03119368], Predictions(result): 0\n",
            "Raw prediction: [0.96762425 0.03237575], Predictions(result): 0\n",
            "Raw prediction: [0.9600056  0.03999443], Predictions(result): 0\n",
            "Raw prediction: [0.02854398 0.9714559 ], Predictions(result): 1\n",
            "Raw prediction: [0.9689844  0.03101557], Predictions(result): 0\n",
            "Raw prediction: [0.07061043 0.9293896 ], Predictions(result): 1\n",
            "Raw prediction: [0.02854398 0.971456  ], Predictions(result): 1\n",
            "Raw prediction: [0.9623869  0.03761293], Predictions(result): 0\n",
            "Raw prediction: [0.07061043 0.9293896 ], Predictions(result): 1\n",
            "Raw prediction: [0.9646321  0.03536802], Predictions(result): 0\n",
            "Raw prediction: [0.9688063  0.03119368], Predictions(result): 0\n",
            "Raw prediction: [0.96790075 0.03209918], Predictions(result): 0\n",
            "Raw prediction: [0.9423598  0.05764025], Predictions(result): 0\n",
            "Raw prediction: [0.9689844  0.03101557], Predictions(result): 0\n",
            "Raw prediction: [0.15021612 0.8497839 ], Predictions(result): 1\n",
            "Raw prediction: [0.962387   0.03761294], Predictions(result): 0\n",
            "Raw prediction: [0.03876565 0.9612344 ], Predictions(result): 1\n",
            "Raw prediction: [0.96799237 0.0320075 ], Predictions(result): 0\n",
            "Raw prediction: [0.01247108 0.9875289 ], Predictions(result): 1\n",
            "Raw prediction: [0.9688955  0.03110451], Predictions(result): 0\n",
            "Raw prediction: [0.12520711 0.8747929 ], Predictions(result): 1\n",
            "Raw prediction: [0.01012166 0.98987824], Predictions(result): 1\n",
            "Raw prediction: [0.06398959 0.93601036], Predictions(result): 1\n",
            "Raw prediction: [0.9398426  0.06015741], Predictions(result): 0\n",
            "Raw prediction: [0.96673816 0.03326172], Predictions(result): 0\n",
            "Raw prediction: [0.9600055  0.03999443], Predictions(result): 0\n",
            "Raw prediction: [0.16419353 0.8358065 ], Predictions(result): 1\n",
            "Raw prediction: [0.96780884 0.03219113], Predictions(result): 0\n",
            "Raw prediction: [0.8971702  0.10282987], Predictions(result): 0\n",
            "Raw prediction: [0.00821116 0.9917887 ], Predictions(result): 1\n",
            "Raw prediction: [0.35388064 0.6461193 ], Predictions(result): 1\n",
            "Raw prediction: [0.07061043 0.9293896 ], Predictions(result): 1\n",
            "Raw prediction: [0.9398426  0.06015741], Predictions(result): 0\n",
            "Raw prediction: [0.9689844  0.03101557], Predictions(result): 0\n",
            "Raw prediction: [0.96639663 0.0336035 ], Predictions(result): 0\n",
            "Raw prediction: [0.13723326 0.8627668 ], Predictions(result): 1\n",
            "Raw prediction: [0.06398959 0.9360104 ], Predictions(result): 1\n",
            "Raw prediction: [0.06398959 0.93601036], Predictions(result): 1\n",
            "Raw prediction: [0.03162124 0.9683787 ], Predictions(result): 1\n",
            "Raw prediction: [0.96771663 0.03228332], Predictions(result): 0\n",
            "Raw prediction: [0.19264273 0.80735725], Predictions(result): 1\n",
            "Raw prediction: [0.12520711 0.8747929 ], Predictions(result): 1\n",
            "Raw prediction: [0.96741176 0.0325882 ], Predictions(result): 0\n",
            "Raw prediction: [0.41944408 0.5805559 ], Predictions(result): 1\n",
            "Raw prediction: [0.03501828 0.9649817 ], Predictions(result): 1\n",
            "Raw prediction: [0.9587613  0.04123876], Predictions(result): 0\n",
            "Raw prediction: [0.6862866  0.31371334], Predictions(result): 0\n",
            "Raw prediction: [0.8339273  0.16607276], Predictions(result): 0\n",
            "Raw prediction: [0.02095878 0.9790412 ], Predictions(result): 1\n",
            "Raw prediction: [0.00911696 0.99088305], Predictions(result): 1\n",
            "Raw prediction: [0.08578359 0.91421634], Predictions(result): 1\n",
            "Raw prediction: [0.02095878 0.9790412 ], Predictions(result): 1\n",
            "Raw prediction: [0.02095878 0.9790412 ], Predictions(result): 1\n",
            "Raw prediction: [0.9446581  0.05534177], Predictions(result): 0\n",
            "Raw prediction: [0.9688955  0.03110451], Predictions(result): 0\n",
            "Raw prediction: [0.04289623 0.9571038 ], Predictions(result): 1\n",
            "Raw prediction: [0.01703795 0.9829621 ], Predictions(result): 1\n",
            "Raw prediction: [0.02575822 0.9742416 ], Predictions(result): 1\n",
            "Raw prediction: [0.9446581  0.05534177], Predictions(result): 0\n",
            "Raw prediction: [0.9635261  0.03647387], Predictions(result): 0\n",
            "Raw prediction: [0.9423598  0.05764025], Predictions(result): 0\n",
            "Raw prediction: [0.6862866  0.31371337], Predictions(result): 0\n",
            "Raw prediction: [0.95104593 0.048954  ], Predictions(result): 0\n",
            "Raw prediction: [0.9468702 0.0531298], Predictions(result): 0\n",
            "Raw prediction: [0.6238325 0.3761676], Predictions(result): 0\n",
            "Raw prediction: [0.94465816 0.05534178], Predictions(result): 0\n",
            "Raw prediction: [0.02095878 0.9790412 ], Predictions(result): 1\n",
            "Raw prediction: [0.96835667 0.0316433 ], Predictions(result): 0\n",
            "Raw prediction: [0.0188989 0.9811011], Predictions(result): 1\n",
            "Raw prediction: [0.03501828 0.9649817 ], Predictions(result): 1\n",
            "Raw prediction: [0.23940207 0.7605979 ], Predictions(result): 1\n",
            "Raw prediction: [0.95747995 0.04252007], Predictions(result): 0\n",
            "Raw prediction: [0.9219935  0.07800657], Predictions(result): 0\n",
            "Raw prediction: [0.9398426  0.06015741], Predictions(result): 0\n",
            "Raw prediction: [0.03501828 0.9649817 ], Predictions(result): 1\n",
            "Raw prediction: [0.09443184 0.9055681 ], Predictions(result): 1\n",
            "Raw prediction: [0.10385291 0.8961471 ], Predictions(result): 1\n",
            "Raw prediction: [0.11409551 0.8859045 ], Predictions(result): 1\n",
            "Raw prediction: [0.03501828 0.9649817 ], Predictions(result): 1\n",
            "Raw prediction: [0.7426494  0.25735065], Predictions(result): 0\n",
            "Raw prediction: [0.19264273 0.80735725], Predictions(result): 1\n",
            "Raw prediction: [0.5569715 0.4430285], Predictions(result): 0\n",
            "Raw prediction: [0.6238325 0.3761676], Predictions(result): 0\n",
            "Raw prediction: [0.01384024 0.98615974], Predictions(result): 1\n",
            "Raw prediction: [0.03876565 0.9612344 ], Predictions(result): 1\n",
            "Raw prediction: [0.06398959 0.9360104 ], Predictions(result): 1\n",
            "Raw prediction: [0.29338682 0.7066132 ], Predictions(result): 1\n",
            "Raw prediction: [0.07061043 0.9293896 ], Predictions(result): 1\n",
            "Raw prediction: [0.00821116 0.9917887 ], Predictions(result): 1\n",
            "Raw prediction: [0.9685373  0.03146271], Predictions(result): 0\n",
            "Raw prediction: [0.95104593 0.048954  ], Predictions(result): 0\n",
            "Raw prediction: [0.01535738 0.98464257], Predictions(result): 1\n",
            "Raw prediction: [0.9646321  0.03536802], Predictions(result): 0\n",
            "Raw prediction: [0.0188989 0.9811011], Predictions(result): 1\n",
            "Raw prediction: [0.04289623 0.9571038 ], Predictions(result): 1\n",
            "Raw prediction: [0.07785922 0.92214084], Predictions(result): 1\n",
            "Raw prediction: [0.13723326 0.8627668 ], Predictions(result): 1\n",
            "Raw prediction: [0.96780884 0.03219113], Predictions(result): 0\n",
            "Raw prediction: [0.03501828 0.9649817 ], Predictions(result): 1\n",
            "Raw prediction: [0.03876565 0.9612344 ], Predictions(result): 1\n",
            "Raw prediction: [0.01247108 0.9875289 ], Predictions(result): 1\n",
            "Raw prediction: [0.96780884 0.03219113], Predictions(result): 0\n",
            "Raw prediction: [0.41944408 0.5805559 ], Predictions(result): 1\n",
            "Raw prediction: [0.03501828 0.9649817 ], Predictions(result): 1\n",
            "Raw prediction: [0.01012166 0.98987824], Predictions(result): 1\n",
            "Raw prediction: [0.96771675 0.03228332], Predictions(result): 0\n",
            "Raw prediction: [0.41944408 0.5805559 ], Predictions(result): 1\n",
            "Raw prediction: [0.96835667 0.0316433 ], Predictions(result): 0\n",
            "Raw prediction: [0.9282229  0.07177718], Predictions(result): 0\n",
            "Raw prediction: [0.0188989 0.9811011], Predictions(result): 1\n",
            "Raw prediction: [0.86883384 0.1311661 ], Predictions(result): 0\n",
            "Raw prediction: [0.08578359 0.91421634], Predictions(result): 1\n",
            "Raw prediction: [0.6238325 0.3761676], Predictions(result): 0\n",
            "Raw prediction: [0.9657028  0.03429728], Predictions(result): 0\n",
            "Raw prediction: [0.9682661  0.03173398], Predictions(result): 0\n",
            "Raw prediction: [0.9660513  0.03394867], Predictions(result): 0\n",
            "Raw prediction: [0.96780884 0.03219113], Predictions(result): 0\n",
            "Raw prediction: [0.08578359 0.91421634], Predictions(result): 1\n",
            "Raw prediction: [0.01247108 0.9875289 ], Predictions(result): 1\n",
            "Raw prediction: [0.05245011 0.9475499 ], Predictions(result): 1\n",
            "Raw prediction: [0.9423598  0.05764025], Predictions(result): 0\n",
            "Raw prediction: [0.0188989 0.9811011], Predictions(result): 1\n",
            "Raw prediction: [0.9682661  0.03173398], Predictions(result): 0\n",
            "Raw prediction: [0.16419353 0.83580655], Predictions(result): 1\n",
            "Raw prediction: [0.01247108 0.9875289 ], Predictions(result): 1\n",
            "Raw prediction: [0.01247108 0.9875289 ], Predictions(result): 1\n",
            "Raw prediction: [0.09443184 0.9055681 ], Predictions(result): 1\n",
            "Raw prediction: [0.9660513  0.03394867], Predictions(result): 0\n",
            "Raw prediction: [0.02323786 0.9767622 ], Predictions(result): 1\n",
            "Raw prediction: [0.96780884 0.03219113], Predictions(result): 0\n",
            "Raw prediction: [0.07785922 0.9221407 ], Predictions(result): 1\n",
            "Raw prediction: [0.96780884 0.03219113], Predictions(result): 0\n",
            "Raw prediction: [0.01535738 0.98464257], Predictions(result): 1\n",
            "Raw prediction: [0.96771663 0.03228332], Predictions(result): 0\n",
            "Raw prediction: [0.86883384 0.1311661 ], Predictions(result): 0\n",
            "Raw prediction: [0.01123582 0.98876417], Predictions(result): 1\n",
            "Raw prediction: [0.96463203 0.03536802], Predictions(result): 0\n",
            "Raw prediction: [0.0188989 0.9811011], Predictions(result): 1\n",
            "Raw prediction: [0.15021612 0.8497839 ], Predictions(result): 1\n",
            "Raw prediction: [0.06398959 0.93601036], Predictions(result): 1\n",
            "Raw prediction: [0.09443183 0.90556806], Predictions(result): 1\n",
            "Raw prediction: [0.01247108 0.9875289 ], Predictions(result): 1\n",
            "Raw prediction: [0.96835667 0.0316433 ], Predictions(result): 0\n",
            "Raw prediction: [0.01247108 0.9875289 ], Predictions(result): 1\n",
            "Raw prediction: [0.07785922 0.9221407 ], Predictions(result): 1\n",
            "Raw prediction: [0.01384024 0.98615974], Predictions(result): 1\n",
            "Raw prediction: [0.9670767 0.0329233], Predictions(result): 0\n",
            "Raw prediction: [0.9646321  0.03536802], Predictions(result): 0\n",
            "Raw prediction: [0.04744519 0.9525547 ], Predictions(result): 1\n",
            "Raw prediction: [0.13723324 0.8627667 ], Predictions(result): 1\n",
            "Raw prediction: [0.95301527 0.04698465], Predictions(result): 0\n",
            "Raw prediction: [0.94899845 0.05100148], Predictions(result): 0\n",
            "Raw prediction: [0.35388064 0.6461193 ], Predictions(result): 1\n",
            "Raw prediction: [0.8971702  0.10282987], Predictions(result): 0\n",
            "Raw prediction: [0.9670767 0.0329233], Predictions(result): 0\n",
            "Raw prediction: [0.01703795 0.9829621 ], Predictions(result): 1\n",
            "Raw prediction: [0.08578359 0.91421634], Predictions(result): 1\n",
            "Raw prediction: [0.9398426  0.06015741], Predictions(result): 0\n",
            "Raw prediction: [0.96799237 0.0320075 ], Predictions(result): 0\n",
            "Raw prediction: [0.95747995 0.04252007], Predictions(result): 0\n",
            "Raw prediction: [0.05795089 0.942049  ], Predictions(result): 1\n",
            "Raw prediction: [0.9684472  0.03155288], Predictions(result): 0\n",
            "Raw prediction: [0.8971702  0.10282987], Predictions(result): 0\n",
            "Raw prediction: [0.9587612  0.04123875], Predictions(result): 0\n",
            "Raw prediction: [0.86883384 0.1311661 ], Predictions(result): 0\n",
            "Raw prediction: [0.9612138  0.03878615], Predictions(result): 0\n",
            "Raw prediction: [0.9574799  0.04252006], Predictions(result): 0\n",
            "Raw prediction: [0.93292904 0.06707093], Predictions(result): 0\n",
            "Raw prediction: [0.05795089 0.942049  ], Predictions(result): 1\n",
            "Raw prediction: [0.35388064 0.6461193 ], Predictions(result): 1\n",
            "Raw prediction: [0.9282229  0.07177718], Predictions(result): 0\n",
            "Raw prediction: [0.0188989 0.9811011], Predictions(result): 1\n",
            "Raw prediction: [0.03162124 0.9683787 ], Predictions(result): 1\n",
            "Raw prediction: [0.9689844  0.03101557], Predictions(result): 0\n",
            "Raw prediction: [0.04289623 0.9571038 ], Predictions(result): 1\n",
            "Raw prediction: [0.94465816 0.05534178], Predictions(result): 0\n",
            "Raw prediction: [0.01703795 0.9829621 ], Predictions(result): 1\n",
            "Raw prediction: [0.01703795 0.9829621 ], Predictions(result): 1\n",
            "Raw prediction: [0.9282229  0.07177718], Predictions(result): 0\n",
            "Raw prediction: [0.05795089 0.942049  ], Predictions(result): 1\n",
            "Raw prediction: [0.96771663 0.03228332], Predictions(result): 0\n",
            "Raw prediction: [0.9686272  0.03137278], Predictions(result): 0\n",
            "Raw prediction: [0.9680839  0.03191607], Predictions(result): 0\n",
            "Raw prediction: [0.96799237 0.0320075 ], Predictions(result): 0\n",
            "Raw prediction: [0.86883384 0.1311661 ], Predictions(result): 0\n",
            "Raw prediction: [0.08578359 0.91421634], Predictions(result): 1\n",
            "Raw prediction: [0.9679009  0.03209918], Predictions(result): 0\n",
            "Raw prediction: [0.9635261  0.03647387], Predictions(result): 0\n",
            "Raw prediction: [0.9686272  0.03137278], Predictions(result): 0\n",
            "Raw prediction: [0.9623869  0.03761293], Predictions(result): 0\n",
            "Raw prediction: [0.00821116 0.9917887 ], Predictions(result): 1\n",
            "Raw prediction: [0.02323786 0.9767622 ], Predictions(result): 1\n",
            "Raw prediction: [0.9368877  0.06311225], Predictions(result): 0\n",
            "Raw prediction: [0.01247108 0.9875289 ], Predictions(result): 1\n",
            "Raw prediction: [0.9600056  0.03999443], Predictions(result): 0\n",
            "Raw prediction: [0.9679009  0.03209918], Predictions(result): 0\n",
            "Raw prediction: [0.9612138  0.03878615], Predictions(result): 0\n",
            "Raw prediction: [0.10385292 0.89614713], Predictions(result): 1\n",
            "Raw prediction: [0.01535738 0.98464257], Predictions(result): 1\n",
            "Raw prediction: [0.96835667 0.0316433 ], Predictions(result): 0\n",
            "Raw prediction: [0.07785922 0.9221407 ], Predictions(result): 1\n",
            "Raw prediction: [0.05795089 0.942049  ], Predictions(result): 1\n",
            "Raw prediction: [0.9219935  0.07800657], Predictions(result): 0\n",
            "Raw prediction: [0.01535738 0.98464257], Predictions(result): 1\n",
            "Raw prediction: [0.96780884 0.03219113], Predictions(result): 0\n",
            "Raw prediction: [0.02575822 0.97424173], Predictions(result): 1\n",
            "Raw prediction: [0.9574799  0.04252006], Predictions(result): 0\n",
            "Raw prediction: [0.04744519 0.9525547 ], Predictions(result): 1\n",
            "Raw prediction: [0.96121377 0.03878615], Predictions(result): 0\n",
            "Raw prediction: [0.9623869  0.03761293], Predictions(result): 0\n",
            "Raw prediction: [0.95616066 0.04383936], Predictions(result): 0\n",
            "Raw prediction: [0.13723324 0.8627667 ], Predictions(result): 1\n",
            "Raw prediction: [0.19264273 0.80735725], Predictions(result): 1\n",
            "Raw prediction: [0.41944408 0.5805559 ], Predictions(result): 1\n",
            "Raw prediction: [0.00911696 0.99088305], Predictions(result): 1\n",
            "Raw prediction: [0.9686272  0.03137278], Predictions(result): 0\n",
            "Raw prediction: [0.23940209 0.76059794], Predictions(result): 1\n",
            "Raw prediction: [0.9635261  0.03647387], Predictions(result): 0\n",
            "Raw prediction: [0.00821116 0.9917887 ], Predictions(result): 1\n",
            "Raw prediction: [0.02095878 0.9790412 ], Predictions(result): 1\n",
            "Raw prediction: [0.9635261  0.03647387], Predictions(result): 0\n",
            "Raw prediction: [0.96639663 0.0336035 ], Predictions(result): 0\n",
            "Raw prediction: [0.10385292 0.89614713], Predictions(result): 1\n",
            "Raw prediction: [0.03162124 0.9683787 ], Predictions(result): 1\n",
            "Raw prediction: [0.01703795 0.9829621 ], Predictions(result): 1\n",
            "Raw prediction: [0.9685373  0.03146271], Predictions(result): 0\n",
            "Raw prediction: [0.03876565 0.9612344 ], Predictions(result): 1\n",
            "Raw prediction: [0.94899845 0.05100148], Predictions(result): 0\n",
            "Raw prediction: [0.29338685 0.70661324], Predictions(result): 1\n",
            "Raw prediction: [0.94899845 0.05100148], Predictions(result): 0\n",
            "Raw prediction: [0.96780884 0.03219113], Predictions(result): 0\n",
            "Raw prediction: [0.0188989 0.9811011], Predictions(result): 1\n",
            "Raw prediction: [0.96639663 0.0336035 ], Predictions(result): 0\n",
            "Raw prediction: [0.9635261  0.03647387], Predictions(result): 0\n",
            "Raw prediction: [0.4879802 0.5120198], Predictions(result): 1\n",
            "Raw prediction: [0.9685373  0.03146271], Predictions(result): 0\n",
            "Raw prediction: [0.02095878 0.9790412 ], Predictions(result): 1\n"
          ]
        }
      ]
    },
    {
      "cell_type": "markdown",
      "source": [
        "# Confusion Matrix"
      ],
      "metadata": {
        "id": "aFk2XO7Lz68U"
      }
    },
    {
      "cell_type": "code",
      "source": [
        "%matplotlib inline\n",
        "from sklearn.metrics import confusion_matrix\n",
        "import itertools\n",
        "import matplotlib.pyplot as plt"
      ],
      "metadata": {
        "id": "7XSDa53gzMKX"
      },
      "execution_count": 26,
      "outputs": []
    },
    {
      "cell_type": "code",
      "source": [
        "cm = confusion_matrix(y_true=test_labels, y_pred=np.argmax(predictions, axis = -1))"
      ],
      "metadata": {
        "id": "QfNJ5faM0Gg7"
      },
      "execution_count": 28,
      "outputs": []
    },
    {
      "cell_type": "code",
      "source": [
        "cm"
      ],
      "metadata": {
        "colab": {
          "base_uri": "https://localhost:8080/"
        },
        "id": "B2nneLll0Qwr",
        "outputId": "04b69a46-235a-40f0-ee64-d620a3f3d0fd"
      },
      "execution_count": 29,
      "outputs": [
        {
          "output_type": "execute_result",
          "data": {
            "text/plain": [
              "array([[198,  12],\n",
              "       [ 10, 200]])"
            ]
          },
          "metadata": {},
          "execution_count": 29
        }
      ]
    },
    {
      "cell_type": "code",
      "source": [
        "from ast import iter_child_nodes\n",
        "def plot_confusion_matrix(\n",
        "    cm,\n",
        "    classes,\n",
        "    normalize=False,\n",
        "    title=\"Confusion Matrix\",\n",
        "    cmap=plt.cm.Blues\n",
        "    ):\n",
        "  plt.imshow(cm, interpolation=\"nearest\", cmap=cmap)\n",
        "  plt.title(title)\n",
        "  plt.colorbar()\n",
        "  tick_marks = np.arange(len(classes))\n",
        "  plt.xticks(tick_marks, classes, rotation=45)\n",
        "  plt.yticks(tick_marks, classes)\n",
        "\n",
        "  if normalize:\n",
        "    cm = cm.astype(\"float\") / cm.sum(axis=1)[:, np.newaxis]\n",
        "    print(\"Normalized confusion matrix\")\n",
        "  else:\n",
        "    print(\"Fuck yea\")\n",
        "  print(cm)\n",
        "\n",
        "  thresh = cm.max() / 2.\n",
        "  for i, j in itertools.product(range(cm.shape[0]), range(cm.shape[1])):\n",
        "    plt.text(j, i, cm[i, j],\n",
        "             horizontalalignment=\"center\",\n",
        "             color=\"white\" if cm[i, j] > thresh else \"black\")\n",
        "  plt.tight_layout()\n",
        "  plt.ylabel(\"True label\")\n",
        "  plt.xlabel(\"Predicted label\")\n",
        "\n",
        "cm_plot_labels = [\"no_side_effects\", \"had_side_effects\"]\n",
        "plot_confusion_matrix(cm=cm, classes=cm_plot_labels, title=\"Confusion Matrix\")\n"
      ],
      "metadata": {
        "colab": {
          "base_uri": "https://localhost:8080/",
          "height": 561
        },
        "id": "siPh9Un10WI4",
        "outputId": "c2ebb9c5-7f8e-456c-969b-067db7de81c3"
      },
      "execution_count": 32,
      "outputs": [
        {
          "output_type": "stream",
          "name": "stdout",
          "text": [
            "Fuck yea\n",
            "[[198  12]\n",
            " [ 10 200]]\n"
          ]
        },
        {
          "output_type": "display_data",
          "data": {
            "text/plain": [
              "<Figure size 640x480 with 2 Axes>"
            ],
            "image/png": "[encoded data removed]"
          },
          "metadata": {}
        }
      ]
    },
    {
      "cell_type": "code",
      "source": [
        "!git clone https://github.com/fowardelcac/Keras-FreeCodeCamp.git"
      ],
      "metadata": {
        "colab": {
          "base_uri": "https://localhost:8080/"
        },
        "id": "YF4ZRd0l9tbS",
        "outputId": "45247996-e4e1-47e0-8e76-17f17cb26a69"
      },
      "execution_count": 34,
      "outputs": [
        {
          "output_type": "stream",
          "name": "stdout",
          "text": [
            "Cloning into 'Keras-FreeCodeCamp'...\n",
            "fatal: could not read Username for 'https://github.com': No such device or address\n"
          ]
        }
      ]
    },
    {
      "cell_type": "code",
      "source": [],
      "metadata": {
        "id": "Yu4l96sW-D2G"
      },
      "execution_count": null,
      "outputs": []
    }
  ]
}